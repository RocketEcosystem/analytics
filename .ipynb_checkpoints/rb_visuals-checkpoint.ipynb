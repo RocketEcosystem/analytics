{
 "cells": [
  {
   "cell_type": "markdown",
   "metadata": {},
   "source": [
    "# Rocket Bunny Dashboard Prototype"
   ]
  },
  {
   "cell_type": "markdown",
   "metadata": {},
   "source": [
    "FILENAME: rb_visuals.ipynb\n",
    "\n",
    "DATE CREATED: 10-APR-21"
   ]
  },
  {
   "cell_type": "markdown",
   "metadata": {},
   "source": [
    "## PHASE 1: Environment Setup"
   ]
  },
  {
   "cell_type": "code",
   "execution_count": 1,
   "metadata": {},
   "outputs": [],
   "source": [
    "import dash\n",
    "import dash_core_components as dcc\n",
    "import dash_html_components as html\n",
    "import pandas as pd\n",
    "import numpy as np\n",
    "\n",
    "import plotly.express as px\n",
    "import plotly.graph_objects as go\n",
    "import seaborn as sns"
   ]
  },
  {
   "cell_type": "markdown",
   "metadata": {},
   "source": [
    "Function declaration"
   ]
  },
  {
   "cell_type": "markdown",
   "metadata": {},
   "source": [
    "def test"
   ]
  },
  {
   "cell_type": "markdown",
   "metadata": {},
   "source": [
    "## PHASE 2: Data ETL"
   ]
  },
  {
   "cell_type": "markdown",
   "metadata": {},
   "source": [
    "Read in the raw data"
   ]
  },
  {
   "cell_type": "code",
   "execution_count": 5,
   "metadata": {},
   "outputs": [
    {
     "data": {
      "text/html": [
       "<div>\n",
       "<style scoped>\n",
       "    .dataframe tbody tr th:only-of-type {\n",
       "        vertical-align: middle;\n",
       "    }\n",
       "\n",
       "    .dataframe tbody tr th {\n",
       "        vertical-align: top;\n",
       "    }\n",
       "\n",
       "    .dataframe thead th {\n",
       "        text-align: right;\n",
       "    }\n",
       "</style>\n",
       "<table border=\"1\" class=\"dataframe\">\n",
       "  <thead>\n",
       "    <tr style=\"text-align: right;\">\n",
       "      <th></th>\n",
       "      <th>snapped_at</th>\n",
       "      <th>price</th>\n",
       "      <th>market_cap</th>\n",
       "      <th>total_volume</th>\n",
       "    </tr>\n",
       "  </thead>\n",
       "  <tbody>\n",
       "    <tr>\n",
       "      <th>0</th>\n",
       "      <td>2021-03-12 00:00:00 UTC</td>\n",
       "      <td>3.544890e-11</td>\n",
       "      <td>0.0</td>\n",
       "      <td>1.269872e+07</td>\n",
       "    </tr>\n",
       "    <tr>\n",
       "      <th>1</th>\n",
       "      <td>2021-03-13 00:00:00 UTC</td>\n",
       "      <td>3.544890e-11</td>\n",
       "      <td>0.0</td>\n",
       "      <td>1.269872e+07</td>\n",
       "    </tr>\n",
       "    <tr>\n",
       "      <th>2</th>\n",
       "      <td>2021-03-14 00:00:00 UTC</td>\n",
       "      <td>2.723985e-11</td>\n",
       "      <td>0.0</td>\n",
       "      <td>4.711907e+06</td>\n",
       "    </tr>\n",
       "    <tr>\n",
       "      <th>3</th>\n",
       "      <td>2021-03-15 00:00:00 UTC</td>\n",
       "      <td>2.276712e-11</td>\n",
       "      <td>0.0</td>\n",
       "      <td>1.814948e+06</td>\n",
       "    </tr>\n",
       "    <tr>\n",
       "      <th>4</th>\n",
       "      <td>2021-03-16 00:00:00 UTC</td>\n",
       "      <td>3.197680e-11</td>\n",
       "      <td>0.0</td>\n",
       "      <td>1.701247e+06</td>\n",
       "    </tr>\n",
       "  </tbody>\n",
       "</table>\n",
       "</div>"
      ],
      "text/plain": [
       "                snapped_at         price  market_cap  total_volume\n",
       "0  2021-03-12 00:00:00 UTC  3.544890e-11         0.0  1.269872e+07\n",
       "1  2021-03-13 00:00:00 UTC  3.544890e-11         0.0  1.269872e+07\n",
       "2  2021-03-14 00:00:00 UTC  2.723985e-11         0.0  4.711907e+06\n",
       "3  2021-03-15 00:00:00 UTC  2.276712e-11         0.0  1.814948e+06\n",
       "4  2021-03-16 00:00:00 UTC  3.197680e-11         0.0  1.701247e+06"
      ]
     },
     "execution_count": 5,
     "metadata": {},
     "output_type": "execute_result"
    }
   ],
   "source": [
    "\n",
    "\n",
    "raw_data = pd.read_csv(\"data/bunny-usd-max.csv\")\n",
    "#data = data.query(\"type == 'conventional' and region == 'Albany'\")\n",
    "#raw_data[\"date\"] = pd.to_datetime(raw_data[\"date\"], format=\"%Y-%m-%d\")\n",
    "\n",
    "#data.sort_values(\"Date\", inplace=True)\n",
    "\n",
    "raw_data.head(5)"
   ]
  },
  {
   "cell_type": "code",
   "execution_count": 6,
   "metadata": {},
   "outputs": [],
   "source": [
    "app = dash.Dash(__name__)"
   ]
  },
  {
   "cell_type": "code",
   "execution_count": 8,
   "metadata": {},
   "outputs": [
    {
     "data": {
      "text/html": [
       "<div>\n",
       "<style scoped>\n",
       "    .dataframe tbody tr th:only-of-type {\n",
       "        vertical-align: middle;\n",
       "    }\n",
       "\n",
       "    .dataframe tbody tr th {\n",
       "        vertical-align: top;\n",
       "    }\n",
       "\n",
       "    .dataframe thead th {\n",
       "        text-align: right;\n",
       "    }\n",
       "</style>\n",
       "<table border=\"1\" class=\"dataframe\">\n",
       "  <thead>\n",
       "    <tr style=\"text-align: right;\">\n",
       "      <th></th>\n",
       "      <th>snapped_at</th>\n",
       "      <th>price</th>\n",
       "      <th>market_cap</th>\n",
       "      <th>total_volume</th>\n",
       "    </tr>\n",
       "  </thead>\n",
       "  <tbody>\n",
       "    <tr>\n",
       "      <th>0</th>\n",
       "      <td>2021-03-12 00:00:00 UTC</td>\n",
       "      <td>3.544890e-11</td>\n",
       "      <td>0.0</td>\n",
       "      <td>1.269872e+07</td>\n",
       "    </tr>\n",
       "    <tr>\n",
       "      <th>1</th>\n",
       "      <td>2021-03-13 00:00:00 UTC</td>\n",
       "      <td>3.544890e-11</td>\n",
       "      <td>0.0</td>\n",
       "      <td>1.269872e+07</td>\n",
       "    </tr>\n",
       "    <tr>\n",
       "      <th>2</th>\n",
       "      <td>2021-03-14 00:00:00 UTC</td>\n",
       "      <td>2.723985e-11</td>\n",
       "      <td>0.0</td>\n",
       "      <td>4.711907e+06</td>\n",
       "    </tr>\n",
       "    <tr>\n",
       "      <th>3</th>\n",
       "      <td>2021-03-15 00:00:00 UTC</td>\n",
       "      <td>2.276712e-11</td>\n",
       "      <td>0.0</td>\n",
       "      <td>1.814948e+06</td>\n",
       "    </tr>\n",
       "    <tr>\n",
       "      <th>4</th>\n",
       "      <td>2021-03-16 00:00:00 UTC</td>\n",
       "      <td>3.197680e-11</td>\n",
       "      <td>0.0</td>\n",
       "      <td>1.701247e+06</td>\n",
       "    </tr>\n",
       "    <tr>\n",
       "      <th>5</th>\n",
       "      <td>2021-03-17 00:00:00 UTC</td>\n",
       "      <td>2.807747e-11</td>\n",
       "      <td>0.0</td>\n",
       "      <td>1.015236e+06</td>\n",
       "    </tr>\n",
       "    <tr>\n",
       "      <th>6</th>\n",
       "      <td>2021-03-18 00:00:00 UTC</td>\n",
       "      <td>2.112662e-11</td>\n",
       "      <td>0.0</td>\n",
       "      <td>7.644860e+05</td>\n",
       "    </tr>\n",
       "    <tr>\n",
       "      <th>7</th>\n",
       "      <td>2021-03-19 00:00:00 UTC</td>\n",
       "      <td>2.096311e-11</td>\n",
       "      <td>0.0</td>\n",
       "      <td>5.282036e+05</td>\n",
       "    </tr>\n",
       "    <tr>\n",
       "      <th>8</th>\n",
       "      <td>2021-03-20 00:00:00 UTC</td>\n",
       "      <td>1.781857e-11</td>\n",
       "      <td>0.0</td>\n",
       "      <td>3.706957e+05</td>\n",
       "    </tr>\n",
       "    <tr>\n",
       "      <th>9</th>\n",
       "      <td>2021-03-21 00:00:00 UTC</td>\n",
       "      <td>1.714733e-11</td>\n",
       "      <td>0.0</td>\n",
       "      <td>3.667799e+05</td>\n",
       "    </tr>\n",
       "    <tr>\n",
       "      <th>10</th>\n",
       "      <td>2021-03-22 00:00:00 UTC</td>\n",
       "      <td>1.248128e-11</td>\n",
       "      <td>0.0</td>\n",
       "      <td>2.645174e+05</td>\n",
       "    </tr>\n",
       "    <tr>\n",
       "      <th>11</th>\n",
       "      <td>2021-03-23 00:00:00 UTC</td>\n",
       "      <td>1.253368e-11</td>\n",
       "      <td>0.0</td>\n",
       "      <td>2.989491e+05</td>\n",
       "    </tr>\n",
       "    <tr>\n",
       "      <th>12</th>\n",
       "      <td>2021-03-24 00:00:00 UTC</td>\n",
       "      <td>1.187572e-11</td>\n",
       "      <td>0.0</td>\n",
       "      <td>2.446592e+05</td>\n",
       "    </tr>\n",
       "    <tr>\n",
       "      <th>13</th>\n",
       "      <td>2021-03-25 00:00:00 UTC</td>\n",
       "      <td>9.457534e-12</td>\n",
       "      <td>0.0</td>\n",
       "      <td>9.767863e+04</td>\n",
       "    </tr>\n",
       "    <tr>\n",
       "      <th>14</th>\n",
       "      <td>2021-03-26 00:00:00 UTC</td>\n",
       "      <td>7.305428e-12</td>\n",
       "      <td>0.0</td>\n",
       "      <td>1.588256e+05</td>\n",
       "    </tr>\n",
       "    <tr>\n",
       "      <th>15</th>\n",
       "      <td>2021-03-27 00:00:00 UTC</td>\n",
       "      <td>8.744555e-12</td>\n",
       "      <td>0.0</td>\n",
       "      <td>7.500085e+04</td>\n",
       "    </tr>\n",
       "    <tr>\n",
       "      <th>16</th>\n",
       "      <td>2021-03-28 00:00:00 UTC</td>\n",
       "      <td>7.207942e-12</td>\n",
       "      <td>0.0</td>\n",
       "      <td>8.720499e+04</td>\n",
       "    </tr>\n",
       "    <tr>\n",
       "      <th>17</th>\n",
       "      <td>2021-03-29 00:00:00 UTC</td>\n",
       "      <td>7.650775e-12</td>\n",
       "      <td>0.0</td>\n",
       "      <td>1.179895e+05</td>\n",
       "    </tr>\n",
       "    <tr>\n",
       "      <th>18</th>\n",
       "      <td>2021-03-30 00:00:00 UTC</td>\n",
       "      <td>9.388180e-12</td>\n",
       "      <td>0.0</td>\n",
       "      <td>1.756815e+05</td>\n",
       "    </tr>\n",
       "    <tr>\n",
       "      <th>19</th>\n",
       "      <td>2021-03-31 00:00:00 UTC</td>\n",
       "      <td>7.174641e-12</td>\n",
       "      <td>0.0</td>\n",
       "      <td>1.475005e+05</td>\n",
       "    </tr>\n",
       "    <tr>\n",
       "      <th>20</th>\n",
       "      <td>2021-04-01 00:00:00 UTC</td>\n",
       "      <td>8.115414e-12</td>\n",
       "      <td>0.0</td>\n",
       "      <td>4.018831e+04</td>\n",
       "    </tr>\n",
       "    <tr>\n",
       "      <th>21</th>\n",
       "      <td>2021-04-02 00:00:00 UTC</td>\n",
       "      <td>7.999102e-12</td>\n",
       "      <td>0.0</td>\n",
       "      <td>3.436873e+04</td>\n",
       "    </tr>\n",
       "    <tr>\n",
       "      <th>22</th>\n",
       "      <td>2021-04-03 00:00:00 UTC</td>\n",
       "      <td>8.651488e-12</td>\n",
       "      <td>0.0</td>\n",
       "      <td>6.746490e+04</td>\n",
       "    </tr>\n",
       "  </tbody>\n",
       "</table>\n",
       "</div>"
      ],
      "text/plain": [
       "                 snapped_at         price  market_cap  total_volume\n",
       "0   2021-03-12 00:00:00 UTC  3.544890e-11         0.0  1.269872e+07\n",
       "1   2021-03-13 00:00:00 UTC  3.544890e-11         0.0  1.269872e+07\n",
       "2   2021-03-14 00:00:00 UTC  2.723985e-11         0.0  4.711907e+06\n",
       "3   2021-03-15 00:00:00 UTC  2.276712e-11         0.0  1.814948e+06\n",
       "4   2021-03-16 00:00:00 UTC  3.197680e-11         0.0  1.701247e+06\n",
       "5   2021-03-17 00:00:00 UTC  2.807747e-11         0.0  1.015236e+06\n",
       "6   2021-03-18 00:00:00 UTC  2.112662e-11         0.0  7.644860e+05\n",
       "7   2021-03-19 00:00:00 UTC  2.096311e-11         0.0  5.282036e+05\n",
       "8   2021-03-20 00:00:00 UTC  1.781857e-11         0.0  3.706957e+05\n",
       "9   2021-03-21 00:00:00 UTC  1.714733e-11         0.0  3.667799e+05\n",
       "10  2021-03-22 00:00:00 UTC  1.248128e-11         0.0  2.645174e+05\n",
       "11  2021-03-23 00:00:00 UTC  1.253368e-11         0.0  2.989491e+05\n",
       "12  2021-03-24 00:00:00 UTC  1.187572e-11         0.0  2.446592e+05\n",
       "13  2021-03-25 00:00:00 UTC  9.457534e-12         0.0  9.767863e+04\n",
       "14  2021-03-26 00:00:00 UTC  7.305428e-12         0.0  1.588256e+05\n",
       "15  2021-03-27 00:00:00 UTC  8.744555e-12         0.0  7.500085e+04\n",
       "16  2021-03-28 00:00:00 UTC  7.207942e-12         0.0  8.720499e+04\n",
       "17  2021-03-29 00:00:00 UTC  7.650775e-12         0.0  1.179895e+05\n",
       "18  2021-03-30 00:00:00 UTC  9.388180e-12         0.0  1.756815e+05\n",
       "19  2021-03-31 00:00:00 UTC  7.174641e-12         0.0  1.475005e+05\n",
       "20  2021-04-01 00:00:00 UTC  8.115414e-12         0.0  4.018831e+04\n",
       "21  2021-04-02 00:00:00 UTC  7.999102e-12         0.0  3.436873e+04\n",
       "22  2021-04-03 00:00:00 UTC  8.651488e-12         0.0  6.746490e+04"
      ]
     },
     "execution_count": 8,
     "metadata": {},
     "output_type": "execute_result"
    }
   ],
   "source": [
    "data = raw_data.copy()\n",
    "data"
   ]
  },
  {
   "cell_type": "code",
   "execution_count": 7,
   "metadata": {},
   "outputs": [
    {
     "data": {
      "text/plain": [
       "['snapped_at', 'price', 'market_cap', 'total_volume']"
      ]
     },
     "execution_count": 7,
     "metadata": {},
     "output_type": "execute_result"
    }
   ],
   "source": [
    "col_list = list(data.columns)\n",
    "col_list"
   ]
  },
  {
   "cell_type": "code",
   "execution_count": null,
   "metadata": {},
   "outputs": [],
   "source": [
    "close_np = data['price'].to_list()\n",
    "close_np"
   ]
  }
 ],
 "metadata": {
  "kernelspec": {
   "display_name": "Python 3",
   "language": "python",
   "name": "python3"
  },
  "language_info": {
   "codemirror_mode": {
    "name": "ipython",
    "version": 3
   },
   "file_extension": ".py",
   "mimetype": "text/x-python",
   "name": "python",
   "nbconvert_exporter": "python",
   "pygments_lexer": "ipython3",
   "version": "3.8.5"
  }
 },
 "nbformat": 4,
 "nbformat_minor": 4
}
