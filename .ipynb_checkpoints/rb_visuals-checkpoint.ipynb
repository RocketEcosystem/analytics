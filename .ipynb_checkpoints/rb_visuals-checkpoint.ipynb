{
 "cells": [
  {
   "cell_type": "markdown",
   "metadata": {},
   "source": [
    "# Rocket Bunny Dashboard Prototype"
   ]
  },
  {
   "cell_type": "markdown",
   "metadata": {},
   "source": [
    "FILENAME: rb_visuals.ipynb\n",
    "\n",
    "DATE CREATED: 10-APR-21"
   ]
  },
  {
   "cell_type": "markdown",
   "metadata": {},
   "source": [
    "## PHASE 1: Environment Setup"
   ]
  },
  {
   "cell_type": "code",
   "execution_count": 27,
   "metadata": {},
   "outputs": [],
   "source": [
    "import dash\n",
    "import dash_core_components as dcc\n",
    "import dash_html_components as html\n",
    "import pandas as pd\n",
    "import numpy as np\n",
    "\n",
    "import plotly.express as px\n",
    "import plotly.graph_objects as go\n",
    "import seaborn as sns"
   ]
  },
  {
   "cell_type": "markdown",
   "metadata": {},
   "source": [
    "Function declaration"
   ]
  },
  {
   "cell_type": "code",
   "execution_count": 28,
   "metadata": {},
   "outputs": [],
   "source": [
    "def is_ma_pos(val):\n",
    "    \n",
    "    if val > 0:\n",
    "        return True\n",
    "    else:\n",
    "        return False"
   ]
  },
  {
   "cell_type": "code",
   "execution_count": 29,
   "metadata": {},
   "outputs": [],
   "source": [
    "def numpy_ewma_vectorized(data, window):\n",
    "\n",
    "    alpha = 2 /(window + 1.0)\n",
    "    alpha_rev = 1-alpha\n",
    "\n",
    "    scale = 1/alpha_rev\n",
    "    n = data.shape[0]\n",
    "\n",
    "    r = np.arange(n)\n",
    "    scale_arr = scale**r\n",
    "    offset = data[0]*alpha_rev**(r+1)\n",
    "    pw0 = alpha*alpha_rev**(n-1)\n",
    "\n",
    "    mult = data*pw0*scale_arr\n",
    "    cumsums = mult.cumsum()\n",
    "    out = offset + cumsums*scale_arr[::-1]\n",
    "    return out"
   ]
  },
  {
   "cell_type": "code",
   "execution_count": 30,
   "metadata": {},
   "outputs": [],
   "source": [
    "def rma(x, n, y0):\n",
    "        a = (n-1) / n\n",
    "        ak = a**np.arange(len(x)-1, -1, -1)\n",
    "        return np.r_[np.full(n, np.nan), y0, np.cumsum(ak * x) / ak / n + y0 * a**np.arange(1, len(x)+1)]"
   ]
  },
  {
   "cell_type": "markdown",
   "metadata": {},
   "source": [
    "Class definition"
   ]
  },
  {
   "cell_type": "markdown",
   "metadata": {},
   "source": [
    "## PHASE 2: Data ETL"
   ]
  },
  {
   "cell_type": "markdown",
   "metadata": {},
   "source": [
    "Read in the raw data"
   ]
  },
  {
   "cell_type": "code",
   "execution_count": 31,
   "metadata": {},
   "outputs": [
    {
     "data": {
      "text/html": [
       "<div>\n",
       "<style scoped>\n",
       "    .dataframe tbody tr th:only-of-type {\n",
       "        vertical-align: middle;\n",
       "    }\n",
       "\n",
       "    .dataframe tbody tr th {\n",
       "        vertical-align: top;\n",
       "    }\n",
       "\n",
       "    .dataframe thead th {\n",
       "        text-align: right;\n",
       "    }\n",
       "</style>\n",
       "<table border=\"1\" class=\"dataframe\">\n",
       "  <thead>\n",
       "    <tr style=\"text-align: right;\">\n",
       "      <th></th>\n",
       "      <th>snapped_at</th>\n",
       "      <th>price</th>\n",
       "      <th>market_cap</th>\n",
       "      <th>total_volume</th>\n",
       "    </tr>\n",
       "  </thead>\n",
       "  <tbody>\n",
       "    <tr>\n",
       "      <th>0</th>\n",
       "      <td>2021-03-12 00:00:00 UTC</td>\n",
       "      <td>3.544890e-11</td>\n",
       "      <td>0.0</td>\n",
       "      <td>1.269872e+07</td>\n",
       "    </tr>\n",
       "    <tr>\n",
       "      <th>1</th>\n",
       "      <td>2021-03-13 00:00:00 UTC</td>\n",
       "      <td>3.544890e-11</td>\n",
       "      <td>0.0</td>\n",
       "      <td>1.269872e+07</td>\n",
       "    </tr>\n",
       "    <tr>\n",
       "      <th>2</th>\n",
       "      <td>2021-03-14 00:00:00 UTC</td>\n",
       "      <td>2.723985e-11</td>\n",
       "      <td>0.0</td>\n",
       "      <td>4.711907e+06</td>\n",
       "    </tr>\n",
       "    <tr>\n",
       "      <th>3</th>\n",
       "      <td>2021-03-15 00:00:00 UTC</td>\n",
       "      <td>2.276712e-11</td>\n",
       "      <td>0.0</td>\n",
       "      <td>1.814948e+06</td>\n",
       "    </tr>\n",
       "    <tr>\n",
       "      <th>4</th>\n",
       "      <td>2021-03-16 00:00:00 UTC</td>\n",
       "      <td>3.197680e-11</td>\n",
       "      <td>0.0</td>\n",
       "      <td>1.701247e+06</td>\n",
       "    </tr>\n",
       "  </tbody>\n",
       "</table>\n",
       "</div>"
      ],
      "text/plain": [
       "                snapped_at         price  market_cap  total_volume\n",
       "0  2021-03-12 00:00:00 UTC  3.544890e-11         0.0  1.269872e+07\n",
       "1  2021-03-13 00:00:00 UTC  3.544890e-11         0.0  1.269872e+07\n",
       "2  2021-03-14 00:00:00 UTC  2.723985e-11         0.0  4.711907e+06\n",
       "3  2021-03-15 00:00:00 UTC  2.276712e-11         0.0  1.814948e+06\n",
       "4  2021-03-16 00:00:00 UTC  3.197680e-11         0.0  1.701247e+06"
      ]
     },
     "execution_count": 31,
     "metadata": {},
     "output_type": "execute_result"
    }
   ],
   "source": [
    "\n",
    "\n",
    "raw_data = pd.read_csv(\"data/bunny-usd-max.csv\")\n",
    "#data = data.query(\"type == 'conventional' and region == 'Albany'\")\n",
    "#raw_data[\"date\"] = pd.to_datetime(raw_data[\"date\"], format=\"%Y-%m-%d\")\n",
    "\n",
    "#data.sort_values(\"Date\", inplace=True)\n",
    "\n",
    "raw_data.head(5)"
   ]
  },
  {
   "cell_type": "code",
   "execution_count": 32,
   "metadata": {},
   "outputs": [],
   "source": [
    "app = dash.Dash(__name__)"
   ]
  },
  {
   "cell_type": "code",
   "execution_count": 33,
   "metadata": {},
   "outputs": [
    {
     "data": {
      "text/html": [
       "<div>\n",
       "<style scoped>\n",
       "    .dataframe tbody tr th:only-of-type {\n",
       "        vertical-align: middle;\n",
       "    }\n",
       "\n",
       "    .dataframe tbody tr th {\n",
       "        vertical-align: top;\n",
       "    }\n",
       "\n",
       "    .dataframe thead th {\n",
       "        text-align: right;\n",
       "    }\n",
       "</style>\n",
       "<table border=\"1\" class=\"dataframe\">\n",
       "  <thead>\n",
       "    <tr style=\"text-align: right;\">\n",
       "      <th></th>\n",
       "      <th>dtg</th>\n",
       "      <th>price</th>\n",
       "      <th>market_cap</th>\n",
       "      <th>total_volume</th>\n",
       "    </tr>\n",
       "  </thead>\n",
       "  <tbody>\n",
       "    <tr>\n",
       "      <th>0</th>\n",
       "      <td>2021-03-12 00:00:00 UTC</td>\n",
       "      <td>3.544890e-11</td>\n",
       "      <td>0.0</td>\n",
       "      <td>1.269872e+07</td>\n",
       "    </tr>\n",
       "    <tr>\n",
       "      <th>1</th>\n",
       "      <td>2021-03-13 00:00:00 UTC</td>\n",
       "      <td>3.544890e-11</td>\n",
       "      <td>0.0</td>\n",
       "      <td>1.269872e+07</td>\n",
       "    </tr>\n",
       "    <tr>\n",
       "      <th>2</th>\n",
       "      <td>2021-03-14 00:00:00 UTC</td>\n",
       "      <td>2.723985e-11</td>\n",
       "      <td>0.0</td>\n",
       "      <td>4.711907e+06</td>\n",
       "    </tr>\n",
       "    <tr>\n",
       "      <th>3</th>\n",
       "      <td>2021-03-15 00:00:00 UTC</td>\n",
       "      <td>2.276712e-11</td>\n",
       "      <td>0.0</td>\n",
       "      <td>1.814948e+06</td>\n",
       "    </tr>\n",
       "    <tr>\n",
       "      <th>4</th>\n",
       "      <td>2021-03-16 00:00:00 UTC</td>\n",
       "      <td>3.197680e-11</td>\n",
       "      <td>0.0</td>\n",
       "      <td>1.701247e+06</td>\n",
       "    </tr>\n",
       "    <tr>\n",
       "      <th>5</th>\n",
       "      <td>2021-03-17 00:00:00 UTC</td>\n",
       "      <td>2.807747e-11</td>\n",
       "      <td>0.0</td>\n",
       "      <td>1.015236e+06</td>\n",
       "    </tr>\n",
       "    <tr>\n",
       "      <th>6</th>\n",
       "      <td>2021-03-18 00:00:00 UTC</td>\n",
       "      <td>2.112662e-11</td>\n",
       "      <td>0.0</td>\n",
       "      <td>7.644860e+05</td>\n",
       "    </tr>\n",
       "    <tr>\n",
       "      <th>7</th>\n",
       "      <td>2021-03-19 00:00:00 UTC</td>\n",
       "      <td>2.096311e-11</td>\n",
       "      <td>0.0</td>\n",
       "      <td>5.282036e+05</td>\n",
       "    </tr>\n",
       "    <tr>\n",
       "      <th>8</th>\n",
       "      <td>2021-03-20 00:00:00 UTC</td>\n",
       "      <td>1.781857e-11</td>\n",
       "      <td>0.0</td>\n",
       "      <td>3.706957e+05</td>\n",
       "    </tr>\n",
       "    <tr>\n",
       "      <th>9</th>\n",
       "      <td>2021-03-21 00:00:00 UTC</td>\n",
       "      <td>1.714733e-11</td>\n",
       "      <td>0.0</td>\n",
       "      <td>3.667799e+05</td>\n",
       "    </tr>\n",
       "    <tr>\n",
       "      <th>10</th>\n",
       "      <td>2021-03-22 00:00:00 UTC</td>\n",
       "      <td>1.248128e-11</td>\n",
       "      <td>0.0</td>\n",
       "      <td>2.645174e+05</td>\n",
       "    </tr>\n",
       "    <tr>\n",
       "      <th>11</th>\n",
       "      <td>2021-03-23 00:00:00 UTC</td>\n",
       "      <td>1.253368e-11</td>\n",
       "      <td>0.0</td>\n",
       "      <td>2.989491e+05</td>\n",
       "    </tr>\n",
       "    <tr>\n",
       "      <th>12</th>\n",
       "      <td>2021-03-24 00:00:00 UTC</td>\n",
       "      <td>1.187572e-11</td>\n",
       "      <td>0.0</td>\n",
       "      <td>2.446592e+05</td>\n",
       "    </tr>\n",
       "    <tr>\n",
       "      <th>13</th>\n",
       "      <td>2021-03-25 00:00:00 UTC</td>\n",
       "      <td>9.457534e-12</td>\n",
       "      <td>0.0</td>\n",
       "      <td>9.767863e+04</td>\n",
       "    </tr>\n",
       "    <tr>\n",
       "      <th>14</th>\n",
       "      <td>2021-03-26 00:00:00 UTC</td>\n",
       "      <td>7.305428e-12</td>\n",
       "      <td>0.0</td>\n",
       "      <td>1.588256e+05</td>\n",
       "    </tr>\n",
       "    <tr>\n",
       "      <th>15</th>\n",
       "      <td>2021-03-27 00:00:00 UTC</td>\n",
       "      <td>8.744555e-12</td>\n",
       "      <td>0.0</td>\n",
       "      <td>7.500085e+04</td>\n",
       "    </tr>\n",
       "    <tr>\n",
       "      <th>16</th>\n",
       "      <td>2021-03-28 00:00:00 UTC</td>\n",
       "      <td>7.207942e-12</td>\n",
       "      <td>0.0</td>\n",
       "      <td>8.720499e+04</td>\n",
       "    </tr>\n",
       "    <tr>\n",
       "      <th>17</th>\n",
       "      <td>2021-03-29 00:00:00 UTC</td>\n",
       "      <td>7.650775e-12</td>\n",
       "      <td>0.0</td>\n",
       "      <td>1.179895e+05</td>\n",
       "    </tr>\n",
       "    <tr>\n",
       "      <th>18</th>\n",
       "      <td>2021-03-30 00:00:00 UTC</td>\n",
       "      <td>9.388180e-12</td>\n",
       "      <td>0.0</td>\n",
       "      <td>1.756815e+05</td>\n",
       "    </tr>\n",
       "    <tr>\n",
       "      <th>19</th>\n",
       "      <td>2021-03-31 00:00:00 UTC</td>\n",
       "      <td>7.174641e-12</td>\n",
       "      <td>0.0</td>\n",
       "      <td>1.475005e+05</td>\n",
       "    </tr>\n",
       "    <tr>\n",
       "      <th>20</th>\n",
       "      <td>2021-04-01 00:00:00 UTC</td>\n",
       "      <td>8.115414e-12</td>\n",
       "      <td>0.0</td>\n",
       "      <td>4.018831e+04</td>\n",
       "    </tr>\n",
       "    <tr>\n",
       "      <th>21</th>\n",
       "      <td>2021-04-02 00:00:00 UTC</td>\n",
       "      <td>7.999102e-12</td>\n",
       "      <td>0.0</td>\n",
       "      <td>3.436873e+04</td>\n",
       "    </tr>\n",
       "    <tr>\n",
       "      <th>22</th>\n",
       "      <td>2021-04-03 00:00:00 UTC</td>\n",
       "      <td>8.651488e-12</td>\n",
       "      <td>0.0</td>\n",
       "      <td>6.746490e+04</td>\n",
       "    </tr>\n",
       "  </tbody>\n",
       "</table>\n",
       "</div>"
      ],
      "text/plain": [
       "                        dtg         price  market_cap  total_volume\n",
       "0   2021-03-12 00:00:00 UTC  3.544890e-11         0.0  1.269872e+07\n",
       "1   2021-03-13 00:00:00 UTC  3.544890e-11         0.0  1.269872e+07\n",
       "2   2021-03-14 00:00:00 UTC  2.723985e-11         0.0  4.711907e+06\n",
       "3   2021-03-15 00:00:00 UTC  2.276712e-11         0.0  1.814948e+06\n",
       "4   2021-03-16 00:00:00 UTC  3.197680e-11         0.0  1.701247e+06\n",
       "5   2021-03-17 00:00:00 UTC  2.807747e-11         0.0  1.015236e+06\n",
       "6   2021-03-18 00:00:00 UTC  2.112662e-11         0.0  7.644860e+05\n",
       "7   2021-03-19 00:00:00 UTC  2.096311e-11         0.0  5.282036e+05\n",
       "8   2021-03-20 00:00:00 UTC  1.781857e-11         0.0  3.706957e+05\n",
       "9   2021-03-21 00:00:00 UTC  1.714733e-11         0.0  3.667799e+05\n",
       "10  2021-03-22 00:00:00 UTC  1.248128e-11         0.0  2.645174e+05\n",
       "11  2021-03-23 00:00:00 UTC  1.253368e-11         0.0  2.989491e+05\n",
       "12  2021-03-24 00:00:00 UTC  1.187572e-11         0.0  2.446592e+05\n",
       "13  2021-03-25 00:00:00 UTC  9.457534e-12         0.0  9.767863e+04\n",
       "14  2021-03-26 00:00:00 UTC  7.305428e-12         0.0  1.588256e+05\n",
       "15  2021-03-27 00:00:00 UTC  8.744555e-12         0.0  7.500085e+04\n",
       "16  2021-03-28 00:00:00 UTC  7.207942e-12         0.0  8.720499e+04\n",
       "17  2021-03-29 00:00:00 UTC  7.650775e-12         0.0  1.179895e+05\n",
       "18  2021-03-30 00:00:00 UTC  9.388180e-12         0.0  1.756815e+05\n",
       "19  2021-03-31 00:00:00 UTC  7.174641e-12         0.0  1.475005e+05\n",
       "20  2021-04-01 00:00:00 UTC  8.115414e-12         0.0  4.018831e+04\n",
       "21  2021-04-02 00:00:00 UTC  7.999102e-12         0.0  3.436873e+04\n",
       "22  2021-04-03 00:00:00 UTC  8.651488e-12         0.0  6.746490e+04"
      ]
     },
     "execution_count": 33,
     "metadata": {},
     "output_type": "execute_result"
    }
   ],
   "source": [
    "\n",
    "data = raw_data.rename({'snapped_at': 'dtg'}, axis=1)\n",
    "data"
   ]
  },
  {
   "cell_type": "code",
   "execution_count": 34,
   "metadata": {},
   "outputs": [
    {
     "data": {
      "text/plain": [
       "['dtg', 'price', 'market_cap', 'total_volume']"
      ]
     },
     "execution_count": 34,
     "metadata": {},
     "output_type": "execute_result"
    }
   ],
   "source": [
    "col_list = list(data.columns)\n",
    "col_list"
   ]
  },
  {
   "cell_type": "code",
   "execution_count": 35,
   "metadata": {},
   "outputs": [
    {
     "data": {
      "text/plain": [
       "[3.544890372449417e-11,\n",
       " 3.544890372449417e-11,\n",
       " 2.7239851621885825e-11,\n",
       " 2.276711980520152e-11,\n",
       " 3.1976800418536546e-11,\n",
       " 2.8077474254547858e-11,\n",
       " 2.1126616432418585e-11,\n",
       " 2.0963108885770787e-11,\n",
       " 1.7818568348394942e-11,\n",
       " 1.714732901367917e-11,\n",
       " 1.2481281902033133e-11,\n",
       " 1.2533681483670114e-11,\n",
       " 1.1875716146667161e-11,\n",
       " 9.457534146178276e-12,\n",
       " 7.305428315404949e-12,\n",
       " 8.744554690166982e-12,\n",
       " 7.207941603822242e-12,\n",
       " 7.650775307094981e-12,\n",
       " 9.388180178763074e-12,\n",
       " 7.174640793551023e-12,\n",
       " 8.115413911027787e-12,\n",
       " 7.999102012443927e-12,\n",
       " 8.651487749048858e-12]"
      ]
     },
     "execution_count": 35,
     "metadata": {},
     "output_type": "execute_result"
    }
   ],
   "source": [
    "close_np = data['price'].to_list()\n",
    "close_np"
   ]
  },
  {
   "cell_type": "code",
   "execution_count": 39,
   "metadata": {},
   "outputs": [],
   "source": [
    "data['date'] = pd.to_datetime(data['dtg'])\n",
    "data['year'] = pd.DatetimeIndex(data['date']).year\n",
    "data['month'] = pd.DatetimeIndex(data['date']).month\n",
    "data['day'] = pd.DatetimeIndex(data['date']).day\n",
    "data['hour'] = pd.DatetimeIndex(data['date']).hour.astype(str)\n"
   ]
  },
  {
   "cell_type": "code",
   "execution_count": null,
   "metadata": {},
   "outputs": [],
   "source": [
    "data"
   ]
  }
 ],
 "metadata": {
  "kernelspec": {
   "display_name": "Python 3",
   "language": "python",
   "name": "python3"
  },
  "language_info": {
   "codemirror_mode": {
    "name": "ipython",
    "version": 3
   },
   "file_extension": ".py",
   "mimetype": "text/x-python",
   "name": "python",
   "nbconvert_exporter": "python",
   "pygments_lexer": "ipython3",
   "version": "3.8.5"
  }
 },
 "nbformat": 4,
 "nbformat_minor": 4
}
